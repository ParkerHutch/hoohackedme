{
 "cells": [
  {
   "cell_type": "markdown",
   "metadata": {},
   "source": [
    "# Setup"
   ]
  },
  {
   "cell_type": "code",
   "execution_count": 15,
   "metadata": {},
   "outputs": [],
   "source": [
    "from sklearn.model_selection import train_test_split"
   ]
  },
  {
   "cell_type": "markdown",
   "metadata": {},
   "source": [
    "## Load Data"
   ]
  },
  {
   "cell_type": "code",
   "execution_count": 13,
   "metadata": {},
   "outputs": [
    {
     "name": "stdout",
     "output_type": "stream",
     "text": [
      "14344391\n"
     ]
    }
   ],
   "source": [
    "lines = []\n",
    "# need errors='ignore' to get rid of some utf-8 errors when decoding\n",
    "with open('rockyou.txt', 'r', encoding='utf-8', errors='ignore') as data_file:\n",
    "    for line in data_file:\n",
    "        lines.append(line.rstrip())\n",
    "print(len(lines))"
   ]
  },
  {
   "cell_type": "markdown",
   "metadata": {},
   "source": [
    "### Split Data"
   ]
  },
  {
   "cell_type": "code",
   "execution_count": 23,
   "metadata": {},
   "outputs": [
    {
     "name": "stdout",
     "output_type": "stream",
     "text": [
      "len(X_train)=10041074 (70.0%), len(X_test)=2868878 (20.0%), len(X_val)=1434439 (10.0%)\n"
     ]
    }
   ],
   "source": [
    "test_proportion = 0.2\n",
    "validation_proportion = 0.1\n",
    "test_set_count = (int) (test_proportion * len(lines))\n",
    "validation_set_count = (int) (validation_proportion * len(lines))\n",
    "\n",
    "\n",
    "X_train, X_test = train_test_split(lines, test_size=test_set_count, random_state=1)\n",
    "X_train, X_val = train_test_split(X_train, test_size=validation_set_count, random_state=1)\n",
    "\n",
    "print(f'{len(X_train)=} ({round(len(X_train) / len(lines), 2) * 100}%), {len(X_test)=} ({round(len(X_test) / len(lines), 2) * 100}%), {len(X_val)=} ({round(len(X_val) / len(lines), 2) * 100}%)')"
   ]
  }
 ],
 "metadata": {
  "kernelspec": {
   "display_name": "Python 3",
   "language": "python",
   "name": "python3"
  },
  "language_info": {
   "codemirror_mode": {
    "name": "ipython",
    "version": 3
   },
   "file_extension": ".py",
   "mimetype": "text/x-python",
   "name": "python",
   "nbconvert_exporter": "python",
   "pygments_lexer": "ipython3",
   "version": "3.10.12"
  }
 },
 "nbformat": 4,
 "nbformat_minor": 2
}
