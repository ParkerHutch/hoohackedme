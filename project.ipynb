{
 "cells": [
  {
   "cell_type": "markdown",
   "metadata": {
    "pycharm": {
     "name": "#%% md\n"
    }
   },
   "source": [
    "# Setup"
   ]
  },
  {
   "cell_type": "code",
   "execution_count": 16,
   "metadata": {
    "pycharm": {
     "is_executing": true,
     "name": "#%%\n"
    }
   },
   "outputs": [
    {
     "name": "stderr",
     "output_type": "stream",
     "text": [
      "2024-04-09 11:55:39.780137: I tensorflow/core/platform/cpu_feature_guard.cc:210] This TensorFlow binary is optimized to use available CPU instructions in performance-critical operations.\n",
      "To enable the following instructions: AVX2 FMA, in other operations, rebuild TensorFlow with the appropriate compiler flags.\n"
     ]
    }
   ],
   "source": [
    "from sklearn.model_selection import train_test_split\n",
    "import pandas as pd\n",
    "import tensorflow as tf\n",
    "import numpy as np\n",
    "import os\n",
    "import time"
   ]
  },
  {
   "cell_type": "markdown",
   "metadata": {
    "pycharm": {
     "name": "#%% md\n"
    }
   },
   "source": [
    "## Load Data"
   ]
  },
  {
   "cell_type": "code",
   "execution_count": 6,
   "metadata": {
    "pycharm": {
     "name": "#%%\n"
    }
   },
   "outputs": [
    {
     "name": "stdout",
     "output_type": "stream",
     "text": [
      "14344391\n"
     ]
    }
   ],
   "source": [
    "lines = []\n",
    "# need errors='ignore' to get rid of some utf-8 errors when decoding\n",
    "with open('rockyou.txt', 'r', encoding='utf-8', errors='ignore') as data_file:\n",
    "    for line in data_file:\n",
    "        lines.append(line.rstrip())\n",
    "print(len(lines))"
   ]
  },
  {
   "cell_type": "markdown",
   "metadata": {
    "pycharm": {
     "name": "#%% md\n"
    }
   },
   "source": [
    "### Split Data"
   ]
  },
  {
   "cell_type": "code",
   "execution_count": 7,
   "metadata": {
    "pycharm": {
     "name": "#%%\n"
    }
   },
   "outputs": [
    {
     "name": "stdout",
     "output_type": "stream",
     "text": [
      "len(X_train)=10041074 (70.0%), len(X_test)=2868878 (20.0%), len(X_val)=1434439 (10.0%)\n"
     ]
    }
   ],
   "source": [
    "test_proportion = 0.2\n",
    "validation_proportion = 0.1\n",
    "test_set_count = (int) (test_proportion * len(lines))\n",
    "validation_set_count = (int) (validation_proportion * len(lines))\n",
    "\n",
    "\n",
    "X_train, X_test = train_test_split(lines, test_size=test_set_count, random_state=1)\n",
    "X_train, X_val = train_test_split(X_train, test_size=validation_set_count, random_state=1)\n",
    "\n",
    "print(f'{len(X_train)=} ({round(len(X_train) / len(lines), 2) * 100}%), {len(X_test)=} ({round(len(X_test) / len(lines), 2) * 100}%), {len(X_val)=} ({round(len(X_val) / len(lines), 2) * 100}%)')"
   ]
  },
  {
   "cell_type": "code",
   "execution_count": 14,
   "metadata": {},
   "outputs": [
    {
     "name": "stdout",
     "output_type": "stream",
     "text": [
      "pato_lucas\n"
     ]
    }
   ],
   "source": [
    "# Print Check for my sake\n",
    "print(X_train[2])"
   ]
  },
  {
   "cell_type": "markdown",
   "metadata": {
    "pycharm": {
     "name": "#%% md\n"
    }
   },
   "source": [
    "# Creating an RNN with some of the data\n",
    "\n",
    "Following this tutorial from tensorflow: [link](https://www.tensorflow.org/text/tutorials/text_generation)"
   ]
  },
  {
   "cell_type": "code",
   "execution_count": null,
   "metadata": {},
   "outputs": [],
   "source": []
  },
  {
   "cell_type": "code",
   "execution_count": null,
   "metadata": {},
   "outputs": [],
   "source": []
  }
 ],
 "metadata": {
  "kernelspec": {
   "display_name": "Python 3 (ipykernel)",
   "language": "python",
   "name": "python3"
  },
  "language_info": {
   "codemirror_mode": {
    "name": "ipython",
    "version": 3
   },
   "file_extension": ".py",
   "mimetype": "text/x-python",
   "name": "python",
   "nbconvert_exporter": "python",
   "pygments_lexer": "ipython3",
   "version": "3.9.6"
  }
 },
 "nbformat": 4,
 "nbformat_minor": 4
}